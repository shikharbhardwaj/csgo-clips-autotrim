{
 "cells": [
  {
   "attachments": {},
   "cell_type": "markdown",
   "metadata": {},
   "source": [
    "## OCR\n",
    "> OCR implementation using PaddleOCR running on Triton using ONNX"
   ]
  },
  {
   "attachments": {},
   "cell_type": "markdown",
   "metadata": {},
   "source": [
    "### PaddleOCR inference steps\n",
    "\n",
    "\n",
    "\n",
    "#### Args\n",
    "\n",
    "\n",
    "| Name | Default | Description |\n",
    "| --- | --- | --- |\n",
    "| rec_batch_num | 6 | Batch size for inference |\n",
    "| rec_algorithm | SVTR_LCNet | Recognition algorithm |\n",
    "| postprocess_params.name | CTCLabelDecode | Name of the postprocess pipeline to use  |\n",
    "| postprocess_params.character_dict_path | ?? | Path to the dictionary file |\n",
    "| postprocess_params.use_space_char | True | Whether to use the space character |\n",
    "\n",
    "#### Steps\n",
    "\n",
    "1. Resize and normalize image\n",
    "2. Create predictor with mode = 'rec'\n",
    "3. Postprocess the results from the predictor\n",
    "\n"
   ]
  },
  {
   "cell_type": "code",
   "execution_count": 1,
   "metadata": {},
   "outputs": [],
   "source": [
    "#| default_exp ocr\n",
    "#| export\n",
    "import dataclasses\n",
    "import math\n",
    "import os\n",
    "import pathlib\n",
    "import re\n",
    "\n",
    "from typing import Any, List, Tuple\n",
    "\n",
    "import cv2\n",
    "import dataclasses_json\n",
    "import mlflow\n",
    "import numpy as np\n",
    "import numpy.typing as nptypes\n",
    "import onnxruntime as ort\n",
    "from PIL import Image\n",
    "\n",
    "from csgo_clips_autotrim.experiment_utils.config import InferenceConfig"
   ]
  },
  {
   "cell_type": "code",
   "execution_count": 2,
   "metadata": {},
   "outputs": [],
   "source": [
    "#| export\n",
    "mlflow.set_tracking_uri('https://mlflow.tenzing.shkhr.ovh')\n",
    "os.environ['MLFLOW_S3_ENDPOINT_URL'] = 'https://minio-api.tenzing.shkhr.ovh'\n",
    "\n",
    "def get_ocr_dictionary(run_id: str) -> os.PathLike:\n",
    "    \"\"\"Get the recognition model dictionary from mlflow's artifact store.\n",
    "\n",
    "    Args:\n",
    "        run_id (str)\n",
    "\n",
    "    Returns:\n",
    "        os.PathLike: Local path to the dictionary file.\n",
    "    \"\"\"\n",
    "    return mlflow.artifacts.download_artifacts(artifact_uri=f'runs:/{run_id}/dict.txt')"
   ]
  },
  {
   "cell_type": "code",
   "execution_count": 3,
   "metadata": {},
   "outputs": [],
   "source": [
    "#| export\n",
    "@dataclasses_json.dataclass_json\n",
    "@dataclasses.dataclass\n",
    "class OCRResult:\n",
    "    text: str\n",
    "    confidence: float"
   ]
  },
  {
   "cell_type": "code",
   "execution_count": 5,
   "metadata": {},
   "outputs": [],
   "source": [
    "from csgo_clips_autotrim.experiment_utils.constants import BASE_DIR\n",
    "from csgo_clips_autotrim.segmentation.elimination import EliminationSegmentationResult\n",
    "\n",
    "OUT_DIR = BASE_DIR / 'nbs' / 'out'"
   ]
  },
  {
   "cell_type": "code",
   "execution_count": 6,
   "metadata": {},
   "outputs": [],
   "source": [
    "SAMPLE_FRAME_IMG = OUT_DIR / 'd2_1v4_ace_00028.png'\n",
    "SAMPLE_EVENTS_JSON = OUT_DIR / 'd2_1v4_ace_00028.json'\n",
    "\n",
    "assert SAMPLE_FRAME_IMG.exists()\n",
    "assert SAMPLE_EVENTS_JSON.exists()"
   ]
  },
  {
   "cell_type": "code",
   "execution_count": 7,
   "metadata": {},
   "outputs": [],
   "source": [
    "with open(SAMPLE_EVENTS_JSON, 'r') as f:\n",
    "    segmentation_result: EliminationSegmentationResult = EliminationSegmentationResult.schema().loads(f.read())"
   ]
  },
  {
   "cell_type": "code",
   "execution_count": 8,
   "metadata": {},
   "outputs": [
    {
     "data": {
      "text/plain": [
       "(360, 640, 3)"
      ]
     },
     "execution_count": 8,
     "metadata": {},
     "output_type": "execute_result"
    }
   ],
   "source": [
    "file_path = OUT_DIR / f'{segmentation_result.frame_info.name}.png'\n",
    "img = Image.open(file_path)\n",
    "np.asarray(img).shape"
   ]
  },
  {
   "cell_type": "code",
   "execution_count": 9,
   "metadata": {},
   "outputs": [
    {
     "data": {
      "image/png": "[encoded data removed]",
      "text/plain": [
       "<PIL.Image.Image image mode=RGB size=200x20>"
      ]
     },
     "execution_count": 9,
     "metadata": {},
     "output_type": "execute_result"
    }
   ],
   "source": [
    "from csgo_clips_autotrim.segmentation.elimination import get_eliminator_bbox, get_eliminated_bbox\n",
    "\n",
    "\n",
    "event = segmentation_result.elimination_events[1]\n",
    "eliminator_img = img.crop(get_eliminator_bbox(event).dims).resize((200, 20))\n",
    "eliminator_img"
   ]
  },
  {
   "cell_type": "code",
   "execution_count": 10,
   "metadata": {},
   "outputs": [],
   "source": [
    "eliminated_img = img.crop(get_eliminated_bbox(event).dims).resize((200, 20))"
   ]
  },
  {
   "cell_type": "code",
   "execution_count": 11,
   "metadata": {},
   "outputs": [
    {
     "data": {
      "image/png": "[encoded data removed]",
      "text/plain": [
       "<PIL.Image.Image image mode=RGB size=200x20>"
      ]
     },
     "execution_count": 11,
     "metadata": {},
     "output_type": "execute_result"
    }
   ],
   "source": [
    "eliminated_img"
   ]
  },
  {
   "cell_type": "code",
   "execution_count": 12,
   "metadata": {},
   "outputs": [],
   "source": [
    "#| export\n",
    "class BaseRecLabelDecode(object):\n",
    "    \"\"\" Convert between text-label and text-index \"\"\"\n",
    "\n",
    "    def __init__(self, character_dict_path=None, use_space_char=False):\n",
    "        self.beg_str = \"sos\"\n",
    "        self.end_str = \"eos\"\n",
    "        self.reverse = False\n",
    "        self.character_str = []\n",
    "\n",
    "        if character_dict_path is None:\n",
    "            self.character_str = \"0123456789abcdefghijklmnopqrstuvwxyz\"\n",
    "            dict_character = list(self.character_str)\n",
    "        else:\n",
    "            with open(character_dict_path, \"rb\") as fin:\n",
    "                lines = fin.readlines()\n",
    "                for line in lines:\n",
    "                    line = line.decode('utf-8').strip(\"\\n\").strip(\"\\r\\n\")\n",
    "                    self.character_str.append(line)\n",
    "            if use_space_char:\n",
    "                self.character_str.append(\" \")\n",
    "            dict_character = list(self.character_str)\n",
    "            if 'arabic' in character_dict_path:\n",
    "                self.reverse = True\n",
    "\n",
    "        dict_character = self.add_special_char(dict_character)\n",
    "        self.dict = {}\n",
    "        for i, char in enumerate(dict_character):\n",
    "            self.dict[char] = i\n",
    "        self.character = dict_character\n",
    "\n",
    "    def pred_reverse(self, pred):\n",
    "        pred_re = []\n",
    "        c_current = ''\n",
    "        for c in pred:\n",
    "            if not bool(re.search('[a-zA-Z0-9 :*./%+-]', c)):\n",
    "                if c_current != '':\n",
    "                    pred_re.append(c_current)\n",
    "                pred_re.append(c)\n",
    "                c_current = ''\n",
    "            else:\n",
    "                c_current += c\n",
    "        if c_current != '':\n",
    "            pred_re.append(c_current)\n",
    "\n",
    "        return ''.join(pred_re[::-1])\n",
    "\n",
    "    def add_special_char(self, dict_character):\n",
    "        return dict_character\n",
    "\n",
    "    def decode(self, text_index, text_prob=None, is_remove_duplicate=False):\n",
    "        \"\"\" convert text-index into text-label. \"\"\"\n",
    "        result_list = []\n",
    "        ignored_tokens = self.get_ignored_tokens()\n",
    "        batch_size = len(text_index)\n",
    "        for batch_idx in range(batch_size):\n",
    "            selection = np.ones(len(text_index[batch_idx]), dtype=bool)\n",
    "            if is_remove_duplicate:\n",
    "                selection[1:] = text_index[batch_idx][1:] != text_index[\n",
    "                    batch_idx][:-1]\n",
    "            for ignored_token in ignored_tokens:\n",
    "                selection &= text_index[batch_idx] != ignored_token\n",
    "\n",
    "            char_list = [\n",
    "                self.character[text_id]\n",
    "                for text_id in text_index[batch_idx][selection]\n",
    "            ]\n",
    "            if text_prob is not None:\n",
    "                conf_list = text_prob[batch_idx][selection]\n",
    "            else:\n",
    "                conf_list = [1] * len(selection)\n",
    "            if len(conf_list) == 0:\n",
    "                conf_list = [0]\n",
    "\n",
    "            text = ''.join(char_list)\n",
    "\n",
    "            if self.reverse:  # for arabic rec\n",
    "                text = self.pred_reverse(text)\n",
    "\n",
    "            result_list.append((text, np.mean(conf_list).tolist()))\n",
    "        return result_list\n",
    "\n",
    "    def get_ignored_tokens(self):\n",
    "        return [0]  # for ctc blank\n",
    "\n",
    "\n",
    "\n",
    "class CTCLabelDecode(BaseRecLabelDecode):\n",
    "    \"\"\" Convert between text-label and text-index \"\"\"\n",
    "\n",
    "    def __init__(self, character_dict_path=None, use_space_char=False,\n",
    "                 **kwargs):\n",
    "        super(CTCLabelDecode, self).__init__(character_dict_path,\n",
    "                                             use_space_char)\n",
    "\n",
    "    def __call__(self, preds, label=None, *args, **kwargs):\n",
    "        if isinstance(preds, tuple) or isinstance(preds, list):\n",
    "            preds = preds[-1]\n",
    "\n",
    "        # if isinstance(preds, paddle.Tensor):\n",
    "        #     preds = preds.numpy()\n",
    "\n",
    "        preds_idx = preds.argmax(axis=2)\n",
    "        preds_prob = preds.max(axis=2)\n",
    "        text = self.decode(preds_idx, preds_prob, is_remove_duplicate=True)\n",
    "        if label is None:\n",
    "            return text\n",
    "        label = self.decode(label)\n",
    "        return text, label\n",
    "\n",
    "    def add_special_char(self, dict_character):\n",
    "        dict_character = ['blank'] + dict_character\n",
    "        return dict_character\n"
   ]
  },
  {
   "cell_type": "code",
   "execution_count": 13,
   "metadata": {},
   "outputs": [],
   "source": [
    "#| export\n",
    "import abc\n",
    "\n",
    "class OCR(abc.ABC):\n",
    "    def recognize(self, img: nptypes.ArrayLike) -> List[OCRResult]:\n",
    "        ...\n",
    "\n",
    "class LocalOCR(OCR):\n",
    "    def __init__(self, model_dir_path: os.PathLike):\n",
    "        self._init_args()\n",
    "\n",
    "        model_dir = pathlib.Path(model_dir_path).parent\n",
    "        self._model_path = model_dir / 'model.onnx'\n",
    "        self._dict_path = model_dir / 'dict.txt'\n",
    "\n",
    "        self._session, self._input_tensor = self._create_predictor()\n",
    "        self._postprocess_op = CTCLabelDecode(self._dict_path.as_posix(), True)\n",
    "    \n",
    "    def _init_args(self):\n",
    "        self._rec_algorithm = 'SVTR_LCNet'\n",
    "        self._output_name = 'softmax_0.tmp_0'\n",
    "        self._rec_image_shape = (3, 48, 320)\n",
    "\n",
    "        imgC, imgH, imgW = self._rec_image_shape\n",
    "        self._rec_img_wh_ratio = imgW / imgH\n",
    "\n",
    "    def _create_predictor(self) -> Tuple[ort.InferenceSession, Any]:\n",
    "        session = ort.InferenceSession(self._model_path)\n",
    "\n",
    "        return session, session.get_inputs()[0]\n",
    "    \n",
    "    def _get_resized_normalized_image(self, img: nptypes.ArrayLike) -> nptypes.ArrayLike:\n",
    "        h, w, c = img.shape\n",
    "        max_wh_ratio = max(self._rec_img_wh_ratio, w * 1.0 / h)\n",
    "\n",
    "        imgC, imgH, imgW = self._rec_image_shape\n",
    "\n",
    "        assert imgC == img.shape[2]\n",
    "        imgW = int((imgH * max_wh_ratio))\n",
    "\n",
    "        ratio = w / float(h)\n",
    "        if math.ceil(imgH * ratio) > imgW:\n",
    "            resized_w = imgW\n",
    "        else:\n",
    "            resized_w = int(math.ceil(imgH * ratio))\n",
    "\n",
    "        resized_image = cv2.resize(img, (resized_w, imgH))\n",
    "        resized_image = resized_image.astype('float32')\n",
    "        resized_image = resized_image.transpose((2, 0, 1)) / 255\n",
    "        resized_image -= 0.5\n",
    "        resized_image /= 0.5\n",
    "        padding_im = np.zeros((imgC, imgH, imgW), dtype=np.float32)\n",
    "        padding_im[:, :, 0:resized_w] = resized_image\n",
    "\n",
    "        return padding_im\n",
    "    \n",
    "    def recognize(self, img: nptypes.ArrayLike) -> List[OCRResult]:\n",
    "        resized_img = self._get_resized_normalized_image(img)\n",
    "        input_dict = {}\n",
    "\n",
    "        resized_img_batch = resized_img[np.newaxis, :]\n",
    "        input_dict[self._input_tensor.name] = resized_img_batch\n",
    "\n",
    "        output = self._session.run(None, input_dict)\n",
    "        preds = output[0]\n",
    "        print(preds.shape)\n",
    "        results = self._postprocess_op(preds)\n",
    "\n",
    "        return [OCRResult(text, confidence) for text, confidence in results]"
   ]
  },
  {
   "cell_type": "code",
   "execution_count": 14,
   "metadata": {},
   "outputs": [
    {
     "name": "stdout",
     "output_type": "stream",
     "text": [
      "(1, 60, 97)\n",
      "[OCRResult(text='prezzi cs.money', confidence=0.9278367161750793)]\n"
     ]
    },
    {
     "data": {
      "text/plain": [
       "<matplotlib.image.AxesImage at 0x7fd688a85780>"
      ]
     },
     "execution_count": 14,
     "metadata": {},
     "output_type": "execute_result"
    },
    {
     "data": {
      "image/png": "[encoded data removed]",
      "text/plain": [
       "<Figure size 640x480 with 1 Axes>"
      ]
     },
     "metadata": {},
     "output_type": "display_data"
    }
   ],
   "source": [
    "%matplotlib inline\n",
    "import matplotlib.pyplot as plt\n",
    "\n",
    "ocr = LocalOCR('/home/shikhar/dev/csgo-clips-autotrim/nbs/out/models/paddleocr/rec_model/model.onnx')\n",
    "preds = ocr.recognize(np.asarray(eliminated_img))\n",
    "print(preds)\n",
    "plt.imshow(eliminated_img)"
   ]
  },
  {
   "cell_type": "code",
   "execution_count": 15,
   "metadata": {},
   "outputs": [],
   "source": [
    "#| export\n",
    "import tritonclient.http as httpclient\n",
    "\n",
    "class TritonOCR(LocalOCR):\n",
    "    def __init__(self, inference_config: InferenceConfig):\n",
    "        self._init_args()\n",
    "\n",
    "        self._inference_client = httpclient.InferenceServerClient(url=inference_config.triton_url)\n",
    "        self._inference_config = inference_config\n",
    "        self._input_name = 'x'\n",
    "        self._output_name = 'softmax_2.tmp_0'\n",
    "\n",
    "        # Download the dict file from the MLFlow run.\n",
    "        self._dict_path = get_ocr_dictionary(inference_config.mlflow_artifact_run_id)\n",
    "        self._postprocess_op = CTCLabelDecode(character_dict_path=self._dict_path, use_space_char=True)\n",
    "    \n",
    "    def recognize(self, img: nptypes.ArrayLike) -> List[OCRResult]:\n",
    "        resized_img = self._get_resized_normalized_image(img)\n",
    "        resized_img_batch = resized_img[np.newaxis, :]\n",
    "\n",
    "        inputs = httpclient.InferInput(self._input_name, resized_img_batch.shape, datatype='FP32')\n",
    "        inputs.set_data_from_numpy(resized_img_batch, binary_data=True)\n",
    "\n",
    "        output = httpclient.InferRequestedOutput(self._output_name, binary_data=True)\n",
    "\n",
    "        raw_output = self._inference_client.infer(model_name=self._inference_config.triton_model_name, inputs=[inputs], outputs=[output])\n",
    "        output = raw_output.as_numpy(self._output_name)\n",
    "        results = self._postprocess_op(output)\n",
    "\n",
    "        return [OCRResult(text, confidence) for text, confidence in results]"
   ]
  },
  {
   "cell_type": "code",
   "execution_count": 16,
   "metadata": {},
   "outputs": [
    {
     "name": "stderr",
     "output_type": "stream",
     "text": [
      "[INFO] 2023-08-06 18:10:04,692 botocore.credentials: Found credentials in shared credentials file: ~/.aws/credentials\n"
     ]
    },
    {
     "data": {
      "text/plain": [
       "[OCRResult(text='prezzi cs.money', confidence=0.9278367161750793)]"
      ]
     },
     "execution_count": 16,
     "metadata": {},
     "output_type": "execute_result"
    }
   ],
   "source": [
    "inference_config = InferenceConfig(mlflow_artifact_run_id='9a143aad0ca04da583484b3471248aed',\n",
    "                                   triton_model_name='paddleocr-en_PP-OCRv3-rec',\n",
    "                                   triton_url='localhost:8000',\n",
    "                                   score_threshold=0.5)\n",
    "\n",
    "triton_ocr = TritonOCR(inference_config)\n",
    "triton_ocr.recognize(np.asarray(eliminated_img))"
   ]
  },
  {
   "cell_type": "code",
   "execution_count": 17,
   "metadata": {},
   "outputs": [
    {
     "data": {
      "text/plain": [
       "[OCRResult(text='Oblue+Sanvi', confidence=0.9210050702095032)]"
      ]
     },
     "execution_count": 17,
     "metadata": {},
     "output_type": "execute_result"
    }
   ],
   "source": [
    "triton_ocr.recognize(np.asarray(eliminator_img))"
   ]
  },
  {
   "cell_type": "code",
   "execution_count": null,
   "metadata": {},
   "outputs": [],
   "source": []
  }
 ],
 "metadata": {
  "kernelspec": {
   "display_name": "csgo-clips-autotrim-py310",
   "language": "python",
   "name": "python3"
  },
  "language_info": {
   "codemirror_mode": {
    "name": "ipython",
    "version": 3
   },
   "file_extension": ".py",
   "mimetype": "text/x-python",
   "name": "python",
   "nbconvert_exporter": "python",
   "pygments_lexer": "ipython3",
   "version": "3.10.6"
  },
  "orig_nbformat": 4
 },
 "nbformat": 4,
 "nbformat_minor": 2
}
