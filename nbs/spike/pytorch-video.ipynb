{
 "cells": [
  {
   "cell_type": "markdown",
   "id": "b4bbce2f",
   "metadata": {},
   "source": [
    "## PyTorchVideo - Getting started\n",
    "\n",
    "Going through the PyTorchVideo quickstart tutorial: https://pytorchvideo.org/#quickstart"
   ]
  },
  {
   "cell_type": "code",
   "execution_count": null,
   "id": "8bb92720",
   "metadata": {},
   "outputs": [],
   "source": [
    "%matplotlib inline\n",
    "\n",
    "import json\n",
    "import os\n",
    "import pathlib\n",
    "import random\n",
    "\n",
    "import torch\n",
    "from torchvision.transforms import Compose, Lambda\n",
    "from pytorchvideo.data.encoded_video import EncodedVideo\n",
    "from pytorchvideo.transforms import (\n",
    "    ApplyTransformToKey,\n",
    "    ShortSideScale,\n",
    "    UniformTemporalSubsample,\n",
    "    UniformCropVideo\n",
    ")\n",
    "from torchvision.transforms._transforms_video import (\n",
    "    CenterCropVideo,\n",
    "    NormalizeVideo,\n",
    ")"
   ]
  },
  {
   "cell_type": "code",
   "execution_count": null,
   "id": "171522f1",
   "metadata": {},
   "outputs": [],
   "source": [
    "DATA_DIR = pathlib.Path('/data/autotrim/dev')\n",
    "DEVICE = \"cuda\"\n",
    "MODEL_NAME = \"slowfast_r50\""
   ]
  },
  {
   "cell_type": "code",
   "execution_count": null,
   "id": "48661d9f",
   "metadata": {},
   "outputs": [
    {
     "name": "stdout",
     "output_type": "stream",
     "text": [
      "--2023-06-24 17:22:01--  https://dl.fbaipublicfiles.com/pyslowfast/dataset/class_names/kinetics_classnames.json\n",
      "Resolving dl.fbaipublicfiles.com (dl.fbaipublicfiles.com)... 18.164.202.10, 18.164.202.62, 18.164.202.120, ...\n",
      "Connecting to dl.fbaipublicfiles.com (dl.fbaipublicfiles.com)|18.164.202.10|:443... connected.\n",
      "HTTP request sent, awaiting response... 200 OK\n",
      "Length: 10326 (10K) [text/plain]\n",
      "Saving to: ‘kinetics_classnames.json.1’\n",
      "\n",
      "kinetics_classnames 100%[===================>]  10.08K  --.-KB/s    in 0s      \n",
      "\n",
      "2023-06-24 17:22:01 (419 MB/s) - ‘kinetics_classnames.json.1’ saved [10326/10326]\n",
      "\n"
     ]
    }
   ],
   "source": [
    "!wget https://dl.fbaipublicfiles.com/pyslowfast/dataset/class_names/kinetics_classnames.json"
   ]
  },
  {
   "cell_type": "code",
   "execution_count": null,
   "id": "ddb7df29",
   "metadata": {},
   "outputs": [],
   "source": [
    "with open(\"kinetics_classnames.json\", \"r\") as f:\n",
    "    kinetics_classnames = json.load(f)\n",
    "    \n",
    "# Create an id to label name mapping\n",
    "kinetics_id_to_classname = {}\n",
    "for k, v in kinetics_classnames.items():\n",
    "    kinetics_id_to_classname[v] = str(k).replace('\"', \"\")"
   ]
  },
  {
   "cell_type": "code",
   "execution_count": null,
   "id": "254932ec",
   "metadata": {},
   "outputs": [
    {
     "name": "stderr",
     "output_type": "stream",
     "text": [
      "Using cache found in /home/shikhar/.cache/torch/hub/facebookresearch_pytorchvideo_main\n"
     ]
    }
   ],
   "source": [
    "model = torch.hub.load('facebookresearch/pytorchvideo', MODEL_NAME, pretrained=True)\n",
    "model = model.to(DEVICE)\n",
    "model = model.eval()"
   ]
  },
  {
   "cell_type": "code",
   "execution_count": null,
   "id": "48d53d78",
   "metadata": {},
   "outputs": [],
   "source": [
    "# List clips in the data dir.\n",
    "clips = os.listdir(DATA_DIR)\n",
    "clip_path = DATA_DIR / random.choice(clips)"
   ]
  },
  {
   "cell_type": "code",
   "execution_count": null,
   "id": "519bde90",
   "metadata": {},
   "outputs": [],
   "source": [
    "# Load the video\n",
    "video = EncodedVideo.from_path(clip_path)"
   ]
  },
  {
   "cell_type": "code",
   "execution_count": null,
   "id": "70c2754a",
   "metadata": {},
   "outputs": [],
   "source": [
    "####################\n",
    "# SlowFast transform\n",
    "####################\n",
    "\n",
    "side_size = 256\n",
    "mean = [0.45, 0.45, 0.45]\n",
    "std = [0.225, 0.225, 0.225]\n",
    "crop_size = 256\n",
    "num_frames = 32\n",
    "sampling_rate = 2\n",
    "frames_per_second = 30\n",
    "alpha = 4\n",
    "\n",
    "class PackPathway(torch.nn.Module):\n",
    "    \"\"\"\n",
    "    Transform for converting video frames as a list of tensors.\n",
    "    \"\"\"\n",
    "    def __init__(self):\n",
    "        super().__init__()\n",
    "\n",
    "    def forward(self, frames: torch.Tensor):\n",
    "        fast_pathway = frames\n",
    "        # Perform temporal sampling from the fast pathway.\n",
    "        slow_pathway = torch.index_select(\n",
    "            frames,\n",
    "            1,\n",
    "            torch.linspace(\n",
    "                0, frames.shape[1] - 1, frames.shape[1] // alpha\n",
    "            ).long(),\n",
    "        )\n",
    "        frame_list = [slow_pathway, fast_pathway]\n",
    "        return frame_list\n",
    "\n",
    "transform =  ApplyTransformToKey(\n",
    "    key=\"video\",\n",
    "    transform=Compose(\n",
    "        [\n",
    "            UniformTemporalSubsample(num_frames),\n",
    "            Lambda(lambda x: x/255.0),\n",
    "            NormalizeVideo(mean, std),\n",
    "            ShortSideScale(\n",
    "                size=side_size\n",
    "            ),\n",
    "            CenterCropVideo(crop_size),\n",
    "            PackPathway()\n",
    "        ]\n",
    "    ),\n",
    ")\n",
    "\n",
    "# The duration of the input clip is also specific to the model.\n",
    "clip_duration = (num_frames * sampling_rate)/frames_per_second"
   ]
  },
  {
   "cell_type": "code",
   "execution_count": null,
   "id": "4baeb9ad",
   "metadata": {},
   "outputs": [],
   "source": [
    "clip_start_sec = 0.0 # secs\n",
    "\n",
    "video_data = video.get_clip(start_sec=clip_start_sec, end_sec=clip_start_sec + clip_duration)\n",
    "video_data = transform(video_data)\n",
    "inputs = video_data[\"video\"]\n",
    "inputs = [i.to(DEVICE)[None, ...] for i in inputs]"
   ]
  },
  {
   "cell_type": "code",
   "execution_count": null,
   "id": "9ad83939",
   "metadata": {},
   "outputs": [],
   "source": [
    "preds = model(inputs)\n",
    "preds = torch.nn.functional.softmax(preds, dim=1)\n",
    "pred_class_ids = preds.topk(k=5).indices"
   ]
  },
  {
   "cell_type": "code",
   "execution_count": null,
   "id": "ae45b8b7",
   "metadata": {},
   "outputs": [
    {
     "name": "stdout",
     "output_type": "stream",
     "text": [
      "Predicted labels: archery, throwing axe, playing paintball, playing didgeridoo, tai chi\n"
     ]
    }
   ],
   "source": [
    "pred_class_names = [kinetics_id_to_classname[int(i)] for i in pred_class_ids[0]]\n",
    "print(\"Predicted labels: %s\" % \", \".join(pred_class_names))"
   ]
  },
  {
   "cell_type": "code",
   "execution_count": null,
   "id": "325d9c65",
   "metadata": {},
   "outputs": [
    {
     "data": {
      "text/plain": [
       "['__abstractmethods__',\n",
       " '__class__',\n",
       " '__delattr__',\n",
       " '__dict__',\n",
       " '__dir__',\n",
       " '__doc__',\n",
       " '__eq__',\n",
       " '__format__',\n",
       " '__ge__',\n",
       " '__getattribute__',\n",
       " '__gt__',\n",
       " '__hash__',\n",
       " '__init__',\n",
       " '__init_subclass__',\n",
       " '__le__',\n",
       " '__lt__',\n",
       " '__module__',\n",
       " '__ne__',\n",
       " '__new__',\n",
       " '__reduce__',\n",
       " '__reduce_ex__',\n",
       " '__repr__',\n",
       " '__setattr__',\n",
       " '__sizeof__',\n",
       " '__slots__',\n",
       " '__str__',\n",
       " '__subclasshook__',\n",
       " '__weakref__',\n",
       " '_abc_impl',\n",
       " '_audio',\n",
       " '_audio_start_pts',\n",
       " '_audio_time_base',\n",
       " '_container',\n",
       " '_decode_audio',\n",
       " '_duration',\n",
       " '_has_audio',\n",
       " '_pyav_decode_video',\n",
       " '_selective_decoding',\n",
       " '_video',\n",
       " '_video_name',\n",
       " '_video_start_pts',\n",
       " '_video_time_base',\n",
       " 'close',\n",
       " 'duration',\n",
       " 'from_path',\n",
       " 'get_clip',\n",
       " 'name']"
      ]
     },
     "execution_count": null,
     "metadata": {},
     "output_type": "execute_result"
    }
   ],
   "source": [
    "dir(video)"
   ]
  },
  {
   "cell_type": "code",
   "execution_count": null,
   "id": "c2b25432",
   "metadata": {},
   "outputs": [],
   "source": [
    "clip = video.get_clip(0, 10)"
   ]
  },
  {
   "cell_type": "code",
   "execution_count": null,
   "id": "e1f0d868",
   "metadata": {},
   "outputs": [
    {
     "data": {
      "text/plain": [
       "torch.Size([3, 600, 1440, 1920])"
      ]
     },
     "execution_count": null,
     "metadata": {},
     "output_type": "execute_result"
    }
   ],
   "source": [
    "clip['video'].shape"
   ]
  },
  {
   "cell_type": "code",
   "execution_count": null,
   "id": "7a549e2a",
   "metadata": {},
   "outputs": [],
   "source": [
    "frame = clip['video'][:, 0, :, :].shape"
   ]
  },
  {
   "cell_type": "code",
   "execution_count": null,
   "id": "bea7f106",
   "metadata": {},
   "outputs": [],
   "source": [
    "import matplotlib.pyplot as plt\n",
    "from PIL import Image"
   ]
  },
  {
   "cell_type": "code",
   "execution_count": null,
   "id": "0868c0cb",
   "metadata": {},
   "outputs": [
    {
     "ename": "AttributeError",
     "evalue": "'torch.Size' object has no attribute '__array_interface__'",
     "output_type": "error",
     "traceback": [
      "\u001b[0;31m---------------------------------------------------------------------------\u001b[0m",
      "\u001b[0;31mAttributeError\u001b[0m                            Traceback (most recent call last)",
      "Cell \u001b[0;32mIn[32], line 1\u001b[0m\n\u001b[0;32m----> 1\u001b[0m img \u001b[38;5;241m=\u001b[39m \u001b[43mImage\u001b[49m\u001b[38;5;241;43m.\u001b[39;49m\u001b[43mfromarray\u001b[49m\u001b[43m(\u001b[49m\u001b[43mframe\u001b[49m\u001b[43m,\u001b[49m\u001b[43m \u001b[49m\u001b[38;5;124;43m'\u001b[39;49m\u001b[38;5;124;43mRGB\u001b[39;49m\u001b[38;5;124;43m'\u001b[39;49m\u001b[43m)\u001b[49m\n",
      "File \u001b[0;32m~/.pyenv/versions/3.10.6/envs/csgo-clips-autotrim-py310/lib/python3.10/site-packages/PIL/Image.py:3078\u001b[0m, in \u001b[0;36mfromarray\u001b[0;34m(obj, mode)\u001b[0m\n\u001b[1;32m   3031\u001b[0m \u001b[38;5;28;01mdef\u001b[39;00m \u001b[38;5;21mfromarray\u001b[39m(obj, mode\u001b[38;5;241m=\u001b[39m\u001b[38;5;28;01mNone\u001b[39;00m):\n\u001b[1;32m   3032\u001b[0m \u001b[38;5;250m    \u001b[39m\u001b[38;5;124;03m\"\"\"\u001b[39;00m\n\u001b[1;32m   3033\u001b[0m \u001b[38;5;124;03m    Creates an image memory from an object exporting the array interface\u001b[39;00m\n\u001b[1;32m   3034\u001b[0m \u001b[38;5;124;03m    (using the buffer protocol)::\u001b[39;00m\n\u001b[0;32m   (...)\u001b[0m\n\u001b[1;32m   3076\u001b[0m \u001b[38;5;124;03m    .. versionadded:: 1.1.6\u001b[39;00m\n\u001b[1;32m   3077\u001b[0m \u001b[38;5;124;03m    \"\"\"\u001b[39;00m\n\u001b[0;32m-> 3078\u001b[0m     arr \u001b[38;5;241m=\u001b[39m \u001b[43mobj\u001b[49m\u001b[38;5;241;43m.\u001b[39;49m\u001b[43m__array_interface__\u001b[49m\n\u001b[1;32m   3079\u001b[0m     shape \u001b[38;5;241m=\u001b[39m arr[\u001b[38;5;124m\"\u001b[39m\u001b[38;5;124mshape\u001b[39m\u001b[38;5;124m\"\u001b[39m]\n\u001b[1;32m   3080\u001b[0m     ndim \u001b[38;5;241m=\u001b[39m \u001b[38;5;28mlen\u001b[39m(shape)\n",
      "\u001b[0;31mAttributeError\u001b[0m: 'torch.Size' object has no attribute '__array_interface__'"
     ]
    }
   ],
   "source": [
    "img = Image.fromarray(frame, 'RGB')"
   ]
  },
  {
   "cell_type": "code",
   "execution_count": null,
   "id": "76c62cd7",
   "metadata": {},
   "outputs": [],
   "source": []
  }
 ],
 "metadata": {
  "kernelspec": {
   "display_name": "python3",
   "language": "python",
   "name": "python3"
  }
 },
 "nbformat": 4,
 "nbformat_minor": 5
}
