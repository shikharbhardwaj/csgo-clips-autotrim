{
 "cells": [
  {
   "cell_type": "markdown",
   "id": "3c5fd9b0-9ac4-465a-83ee-850351a53bdd",
   "metadata": {},
   "source": [
    "## Managing secrets\n",
    "\n",
    "We would need a way to manage secrets, ideally with the following list of features:\n",
    "\n",
    "\n",
    "1. Ability to source key-value based secrets from multiple sources, including Vault (production), File and Env Vars (in order of preference)\n",
    "2. Ability to establish trust with Vault using\n",
    "\n",
    "    a. Username/password entered by humans to prove their identity\n",
    "\n",
    "    b. Workload-based identity when running in kuberenetes\n",
    "    \n",
    "    "
   ]
  },
  {
   "cell_type": "code",
   "execution_count": 2,
   "id": "1a3c45b0-e969-40b7-b610-e36a8a9fc843",
   "metadata": {},
   "outputs": [],
   "source": [
    "from dataclasses import dataclass, fields\n",
    "import json\n",
    "import logging\n",
    "from logging.config import dictConfig\n",
    "import os\n",
    "\n",
    "from dataclasses_json import dataclass_json\n",
    "import hvac\n",
    "\n",
    "from experiment_utils.constants import LOGGING_CONFIG, BASE_DIR"
   ]
  },
  {
   "cell_type": "code",
   "execution_count": 3,
   "id": "f55c6530-6efe-4e26-832f-9c39e2769402",
   "metadata": {},
   "outputs": [],
   "source": [
    "dictConfig(LOGGING_CONFIG)\n",
    "logger = logging.getLogger(__name__)\n",
    "\n",
    "\n",
    "@dataclass_json\n",
    "@dataclass\n",
    "class Secrets:\n",
    "    AZURE_BLOBSTORE_CONTAINER_URL: str\n",
    "\n",
    "    @classmethod\n",
    "    def try_load_from_secrets_file(cls) -> 'Secrets':\n",
    "        default_location = os.path.abspath(os.path.join(BASE_DIR, '.local', 'secrets.json'))\n",
    "        \n",
    "        secrets_file_location = os.getenv('GLOBAL_SECRETS_FILE', default_location)\n",
    "\n",
    "        if not os.path.exists(secrets_file_location):\n",
    "            raise FileNotFoundError(f\"Could not find secrets file at: {secrets_file_location}. Set env variable GLOBAL_SECRETS_FILE to the path to secrets.json.\")\n",
    "        \n",
    "        try:\n",
    "            with open(secrets_file_location, 'r') as f:\n",
    "                return cls.from_json(f.read())\n",
    "        except FileNotFoundError:\n",
    "            raise ValueError(f\"Could not find secrets file at: {secrets_file_location}.\")\n",
    "    \n",
    "    @classmethod\n",
    "    def try_load_from_env_vars(cls) -> 'Secrets':\n",
    "        env_var_names = { field.name for field in fields(cls) }\n",
    "\n",
    "        return cls.from_dict({k: v for k, v in os.environ.items() if k in env_var_names})\n",
    "\n",
    "    \n",
    "    @classmethod\n",
    "    def load(cls) -> 'Secrets':\n",
    "        secret_loaders = [Secrets.try_load_from_secrets_file, Secrets.try_load_from_env_vars]\n",
    "        \n",
    "        for loader in secret_loaders:\n",
    "            try:\n",
    "                return loader()\n",
    "            except Exception:\n",
    "                logger.warn(\"Failed to load secrets from loader: %s\", loader.__name__)\n",
    "                \n",
    "        raise RuntimeError(\"Could not load secrets.\")\n",
    "\n"
   ]
  },
  {
   "cell_type": "code",
   "execution_count": 15,
   "id": "c7e21755-8aac-4c8f-a14f-6891a8ea5a2f",
   "metadata": {},
   "outputs": [
    {
     "name": "stdin",
     "output_type": "stream",
     "text": [
      " ········\n"
     ]
    }
   ],
   "source": [
    "import getpass\n",
    "password = getpass.getpass()"
   ]
  },
  {
   "cell_type": "code",
   "execution_count": 16,
   "id": "5575c5af-063e-47bb-a936-723df2a9eadf",
   "metadata": {},
   "outputs": [],
   "source": [
    "client = hvac.Client(url='https://secrets.shkhr.ovh')"
   ]
  },
  {
   "cell_type": "code",
   "execution_count": 17,
   "id": "74b3a6dc-b33b-4ef0-b34a-fad27bc261df",
   "metadata": {},
   "outputs": [
    {
     "data": {
      "text/plain": [
       "{'request_id': '3fece5d8-daae-ad93-048c-0184a278c0e6',\n",
       " 'lease_id': '',\n",
       " 'renewable': False,\n",
       " 'lease_duration': 0,\n",
       " 'data': None,\n",
       " 'wrap_info': None,\n",
       " 'warnings': None,\n",
       " 'auth': {'client_token': 'hvs.CAESIPX90_L0tiEtH6PngfYxQ4UPJvPZjH57hBBLuvMlxz7AGh4KHGh2cy5rZkpXWFc0dFZTeEZ2VE4yQWtseUVmUHE',\n",
       "  'accessor': '5z8s3JOSKYpUUeEp95f9WwWn',\n",
       "  'policies': ['admins', 'default'],\n",
       "  'token_policies': ['admins', 'default'],\n",
       "  'metadata': {'username': 'shikhar'},\n",
       "  'lease_duration': 604800,\n",
       "  'renewable': True,\n",
       "  'entity_id': 'c368d9b5-1a45-4cac-c6a7-79eeb9531f0b',\n",
       "  'token_type': 'service',\n",
       "  'orphan': True,\n",
       "  'mfa_requirement': None,\n",
       "  'num_uses': 0}}"
      ]
     },
     "execution_count": 17,
     "metadata": {},
     "output_type": "execute_result"
    }
   ],
   "source": [
    "client.auth.userpass.login(username='shikhar', password=password)"
   ]
  },
  {
   "cell_type": "code",
   "execution_count": 18,
   "id": "adbf5ebc-9d73-45cf-8f39-429b9770c5c1",
   "metadata": {},
   "outputs": [
    {
     "data": {
      "text/plain": [
       "True"
      ]
     },
     "execution_count": 18,
     "metadata": {},
     "output_type": "execute_result"
    }
   ],
   "source": [
    "client.is_authenticated()"
   ]
  },
  {
   "cell_type": "code",
   "execution_count": null,
   "id": "e497bb5e-8237-4fb8-a627-be4138cf6926",
   "metadata": {},
   "outputs": [],
   "source": [
    "client.secrets"
   ]
  }
 ],
 "metadata": {
  "kernelspec": {
   "display_name": "Python 3 (ipykernel)",
   "language": "python",
   "name": "python3"
  },
  "language_info": {
   "codemirror_mode": {
    "name": "ipython",
    "version": 3
   },
   "file_extension": ".py",
   "mimetype": "text/x-python",
   "name": "python",
   "nbconvert_exporter": "python",
   "pygments_lexer": "ipython3",
   "version": "3.7.13"
  }
 },
 "nbformat": 4,
 "nbformat_minor": 5
}
