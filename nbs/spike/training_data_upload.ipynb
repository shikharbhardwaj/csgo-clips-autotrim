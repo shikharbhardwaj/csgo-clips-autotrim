{
 "cells": [
  {
   "cell_type": "raw",
   "id": "de43d3fd",
   "metadata": {},
   "source": [
    "---\n",
    "{}\n",
    "\n",
    "---\n",
    "\n"
   ]
  },
  {
   "cell_type": "code",
   "execution_count": 21,
   "id": "d9028b94",
   "metadata": {},
   "outputs": [],
   "source": [
    "import pathlib\n",
    "import pickle\n",
    "from PIL import Image\n",
    "import io\n",
    "from uuid import uuid4\n",
    "\n",
    "from azure.storage.blob import ContainerClient\n",
    "import matplotlib.pyplot as plt\n",
    "import numpy as np\n",
    "from joblib import Parallel, delayed\n",
    "\n",
    "from experiment_utils.secrets import Secrets\n",
    "from experiment_utils.utils import getLogger\n",
    "from experiment_utils.constants import *\n",
    "\n",
    "from csgo_clips_autotrim.feature_extraction import DownsampleConfig, get_downsampled_frames"
   ]
  },
  {
   "cell_type": "code",
   "execution_count": 22,
   "id": "d73ebc8e",
   "metadata": {},
   "outputs": [],
   "source": [
    "def get_png_image_data(img_arr) -> :\n",
    "    data = io.BytesIO()\n",
    "    \n",
    "    \n",
    "    return data.getvalue()"
   ]
  },
  {
   "cell_type": "code",
   "execution_count": 33,
   "id": "8bd5bebb-b2c6-4ac1-9fd8-37d4ab6e95bd",
   "metadata": {},
   "outputs": [],
   "source": [
    "def upload_task(file_path: pathlib.Path, output_folder: pathlib.Path, output_prefix: str):\n",
    "    '''\n",
    "    Upload frames from a given video to blob store.\n",
    "    '''\n",
    "    secrets = Secrets.load()\n",
    "    container_client = ContainerClient.from_container_url(container_url=secrets.AZURE_BLOBSTORE_CONTAINER_URL, credential=secrets.AZURE_BLOBSTORE_SAS_TOKEN)\n",
    "    log = getLogger('upload_task')\n",
    "    log.info('Uploading training data from video: %s', file_path)\n",
    "    video_file_name, extension = file_path.name.split('.mp4')\n",
    "    frame_name_prefix = f'{video_file_name}'\n",
    "    frames = get_downsampled_frames(file_path.absolute().as_posix(), DownsampleConfig.from_str(\"downsample_1920x1080_60_RGB\"))\n",
    "    for idx, frame in enumerate(frames):\n",
    "        frame_file_name = f'{frame_name_prefix}_{idx:06}.png'\n",
    "        # container_client.upload_blob(f'{output_prefix}/{frame_file_name}', data, overwrite=True)\n",
    "        plt.imsave(output_folder / frame_file_name, frame, cmap='gray')"
   ]
  },
  {
   "cell_type": "code",
   "execution_count": 34,
   "id": "c7fd510a",
   "metadata": {},
   "outputs": [],
   "source": [
    "def upload_training_images(input_folder: pathlib.Path, output_folder: pathlib.Path, output_prefix: str):\n",
    "    '''\n",
    "    Upload frames from the clips in the input folder to blob storage.\n",
    "    '''\n",
    "    tasks = []\n",
    "    \n",
    "    for path in input_folder.glob(\"*.mp4\"):\n",
    "        if not path.is_file():\n",
    "            continue\n",
    "        \n",
    "        tasks.append(delayed(upload_task)(path, output_folder, output_prefix))\n",
    "    \n",
    "    tic = time.perf_counter()\n",
    "    Parallel(n_jobs=4)(tasks)\n",
    "    toc = time.perf_counter()\n",
    "    \n",
    "    logger.info(\"Upload took: %dms\", (toc - tic) * 1000)"
   ]
  },
  {
   "cell_type": "code",
   "execution_count": 35,
   "id": "11c55af7-c78a-4bcd-bdda-0b4bdf7404e2",
   "metadata": {},
   "outputs": [
    {
     "name": "stderr",
     "output_type": "stream",
     "text": [
      "[INFO] 2022-10-23 15:54:44,791 upload_task : Uploading training data from video: /code/data/clips/input/blue_and_ash_fail.mp4\n",
      "[INFO] 2022-10-23 15:54:44,808 upload_task : Uploading training data from video: /code/data/clips/input/ashtm_tactical_nade.mp4\n",
      "  0%|          | 0/3600 [00:00<?, ?it/s][INFO] 2022-10-23 15:54:44,885 upload_task : Uploading training data from video: /code/data/clips/input/ashtm_kit_useless.mp4\n",
      "[INFO] 2022-10-23 15:54:44,898 upload_task : Uploading training data from video: /code/data/clips/input/B_rush_stopped.mp4\n",
      "3600it [00:25, 139.90it/s] [00:25<00:00, 139.48it/s]\n",
      " 10%|█         | 360/3599 [00:01<00:18, 177.11it/s]\n",
      "  0%|          | 0/3600 [00:00<?, ?it/s]\n",
      " 17%|█▋        | 600/3600 [00:03<00:19, 150.65it/s]\n",
      "3600it [00:24, 146.86it/s]                          \n",
      "100%|██████████| 3600/3600 [00:20<00:00, 176.93it/s][INFO] 2022-10-23 15:57:21,446 __main__    : Upload took: 158000ms\n",
      "\n",
      "\n",
      "\n",
      "\n"
     ]
    }
   ],
   "source": [
    "upload_training_images(DATA_DIR / 'clips' / 'input', DATA_DIR / 'clips' / 'output', 'label-studio/src/frames')"
   ]
  },
  {
   "cell_type": "code",
   "execution_count": null,
   "id": "e428670e-c505-425a-b090-8444ff7ce9da",
   "metadata": {},
   "outputs": [],
   "source": []
  }
 ],
 "metadata": {
  "kernelspec": {
   "display_name": "Python 3 (ipykernel)",
   "language": "python",
   "name": "python3"
  },
  "language_info": {
   "codemirror_mode": {
    "name": "ipython",
    "version": 3
   },
   "file_extension": ".py",
   "mimetype": "text/x-python",
   "name": "python",
   "nbconvert_exporter": "python",
   "pygments_lexer": "ipython3",
   "version": "3.7.13"
  }
 },
 "nbformat": 4,
 "nbformat_minor": 5
}
