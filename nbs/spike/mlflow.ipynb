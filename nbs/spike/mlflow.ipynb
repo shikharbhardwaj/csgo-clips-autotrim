{
 "cells": [
  {
   "attachments": {},
   "cell_type": "markdown",
   "metadata": {},
   "source": [
    "## MLFlow workflow example\n",
    "> Example showing setting up a sample MLFLow project and tracking parameters, metrics and artifacts."
   ]
  },
  {
   "cell_type": "code",
   "execution_count": 14,
   "metadata": {},
   "outputs": [],
   "source": [
    "import os\n",
    "import pathlib\n",
    "\n",
    "import mlflow\n",
    "from mlflow.data.filesystem_dataset_source import FileSystemDatasetSource"
   ]
  },
  {
   "attachments": {},
   "cell_type": "markdown",
   "metadata": {},
   "source": [
    "### Setup"
   ]
  },
  {
   "cell_type": "code",
   "execution_count": 15,
   "metadata": {},
   "outputs": [],
   "source": [
    "mlflow.set_tracking_uri('https://mlflow.tenzing.shkhr.ovh')\n",
    "os.environ['MLFLOW_S3_ENDPOINT_URL'] = 'https://minio-api.tenzing.shkhr.ovh'\n",
    "EXPERIMENT_NAME = 'workflow-example'\n",
    "ARTIFACT_LOCATION = f's3://mlflow/{EXPERIMENT_NAME}'\n",
    "\n",
    "EXPERIMENT_DIR = pathlib.Path('/data/kaggle') / EXPERIMENT_NAME\n",
    "EXPERIMENT_DIR.mkdir(parents=True, exist_ok=True)"
   ]
  },
  {
   "cell_type": "code",
   "execution_count": 3,
   "metadata": {},
   "outputs": [],
   "source": [
    "# If the experiment does not exist, create the experiment for the first time and\n",
    "# set the artifact location.\n",
    "if mlflow.get_experiment_by_name(EXPERIMENT_NAME) is None:\n",
    "    mlflow.create_experiment(EXPERIMENT_NAME, artifact_location=ARTIFACT_LOCATION)\n",
    "\n",
    "experiment = mlflow.set_experiment(EXPERIMENT_NAME)"
   ]
  },
  {
   "cell_type": "code",
   "execution_count": 16,
   "metadata": {},
   "outputs": [],
   "source": [
    "with mlflow.start_run(run_name='test', description='Test run for approach xyz.', experiment_id=experiment.experiment_id) as run:\n",
    "    params = {\n",
    "        'first_param': 42,\n",
    "        'list_param': [1, 2, 3],\n",
    "    }\n",
    "    mlflow.log_params(params)\n",
    "    mlflow.set_tags({\n",
    "        'test_run': True,\n",
    "        'missing_metrics': True\n",
    "    })\n",
    "\n",
    "    # Run the training/eval code.\n",
    "    ...\n",
    "    mlflow.log_metric('accuracy', 0.9)\n",
    "    mlflow.log_metric('f1', 0.84)\n",
    "\n",
    "    RUN_DIR = EXPERIMENT_DIR / run.info.run_id\n",
    "    RUN_DIR.mkdir(parents=True, exist_ok=False)\n",
    "    MODEL_PATH = RUN_DIR / 'model.pkl'\n",
    "\n",
    "    with open(MODEL_PATH, 'w') as f:\n",
    "        f.write('something')\n",
    "    \n",
    "    mlflow.log_artifact(MODEL_PATH)"
   ]
  }
 ],
 "metadata": {
  "kernelspec": {
   "display_name": "csgo-clips-autotrim-py310",
   "language": "python",
   "name": "python3"
  },
  "language_info": {
   "codemirror_mode": {
    "name": "ipython",
    "version": 3
   },
   "file_extension": ".py",
   "mimetype": "text/x-python",
   "name": "python",
   "nbconvert_exporter": "python",
   "pygments_lexer": "ipython3",
   "version": "3.10.6"
  },
  "orig_nbformat": 4
 },
 "nbformat": 4,
 "nbformat_minor": 2
}
