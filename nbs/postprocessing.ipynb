{
 "cells": [
  {
   "attachments": {},
   "cell_type": "markdown",
   "metadata": {},
   "source": [
    "## Postprocessing\n",
    "> Postprocessing step to cleanup elimination events."
   ]
  },
  {
   "cell_type": "code",
   "execution_count": 1,
   "metadata": {},
   "outputs": [],
   "source": [
    "#| default_exp segmentation.postprocessing\n",
    "#| export\n",
    "import dataclasses\n",
    "\n",
    "from csgo_clips_autotrim.segmentation.elimination import EliminationSegmentationResult, is_bbox_overlap, bbox_area"
   ]
  },
  {
   "cell_type": "code",
   "execution_count": 5,
   "metadata": {},
   "outputs": [],
   "source": [
    "#| export\n",
    "def remove_duplicate_events(result: EliminationSegmentationResult) -> EliminationSegmentationResult:\n",
    "    \"\"\"Remove duplicate elimination events (overlapping event bboxes) over the\n",
    "    same region.\n",
    "\n",
    "    Args:\n",
    "        result (EliminationSegmentationResult): input result\n",
    "\n",
    "    Returns:\n",
    "        EliminationSegmentationResult\n",
    "    \"\"\"\n",
    "    deduped_events = []\n",
    "\n",
    "    for i, event1 in enumerate(result.elimination_events):\n",
    "        for event2 in result.elimination_events[i+1:]:\n",
    "            if is_bbox_overlap(event1.event.bbox, event2.event.bbox):\n",
    "                bigger_event = event1\n",
    "\n",
    "                if bbox_area(event1.event.bbox) < bbox_area(event2.event.bbox):\n",
    "                    bigger_event = event2\n",
    "                \n",
    "                deduped_events.append(bigger_event)\n",
    "    \n",
    "    return dataclasses.replace(result, elimination_events=deduped_events)"
   ]
  },
  {
   "attachments": {},
   "cell_type": "markdown",
   "metadata": {},
   "source": [
    "### Test run"
   ]
  },
  {
   "cell_type": "code",
   "execution_count": 8,
   "metadata": {},
   "outputs": [
    {
     "data": {
      "text/plain": [
       "EliminationSegmentationResult(elimination_events=[EliminationEvent(event=SegmentationResult(bbox=XYXYBBox(dims=[320.96661376953125, 36.627685546875, 584.9686889648438, 54.144866943359375]), ocr=None), eliminator=SegmentationResult(bbox=XYXYBBox(dims=[320.96661376953125, 40.964388847351074, 434.2342987060547, 52.10789680480957]), ocr=OCRResult(text='RANOUAPEEK Hiccup', confidence=0.9002308249473572)), weapon=SegmentationResult(bbox=XYXYBBox(dims=[434.2342987060547, 40.964388847351074, 475.1927185058594, 52.10789680480957]), ocr=None), eliminated=SegmentationResult(bbox=XYXYBBox(dims=[475.1927185058594, 40.964388847351074, 584.9686889648438, 52.10789680480957]), ocr=OCRResult(text='Hutch wala kutta', confidence=0.9410244226455688))), EliminationEvent(event=SegmentationResult(bbox=XYXYBBox(dims=[320.46221923828125, 37.169036865234375, 501.333251953125, 53.19525146484375]), ocr=None), eliminator=SegmentationResult(bbox=XYXYBBox(dims=[320.46221923828125, 40.94595241546631, 434.42183685302734, 51.643860816955566]), ocr=OCRResult(text='RANOUAPEEK Hiccup', confidence=0.8440197110176086)), weapon=SegmentationResult(bbox=XYXYBBox(dims=[434.42183685302734, 40.94595241546631, 474.85003662109375, 51.643860816955566]), ocr=None), eliminated=SegmentationResult(bbox=XYXYBBox(dims=[474.85003662109375, 40.94595241546631, 501.333251953125, 51.643860816955566]), ocr=OCRResult(text='H', confidence=0.6833181977272034)))], frame_info=FrameInfo(name='d2_1v4_ace_00006', idx=6))"
      ]
     },
     "execution_count": 8,
     "metadata": {},
     "output_type": "execute_result"
    }
   ],
   "source": [
    "from csgo_clips_autotrim.experiment_utils.constants import BASE_DIR\n",
    "\n",
    "\n",
    "sample_result_path =  BASE_DIR / 'nbs' / 'out' / 'work-dir' / 'provenance' / 'd2_1v4_ace_00006.json'\n",
    "sample_result = EliminationSegmentationResult.from_json(sample_result_path.read_text())\n",
    "sample_result"
   ]
  },
  {
   "cell_type": "code",
   "execution_count": 9,
   "metadata": {},
   "outputs": [
    {
     "name": "stdout",
     "output_type": "stream",
     "text": [
      "Original events:  2\n",
      "Deduped events:  1\n"
     ]
    }
   ],
   "source": [
    "print('Original events: ', len(sample_result.elimination_events))\n",
    "deduped_result = remove_duplicate_events(sample_result)\n",
    "print('Deduped events: ', len(deduped_result.elimination_events))"
   ]
  }
 ],
 "metadata": {
  "kernelspec": {
   "display_name": "csgo-clips-autotrim-py310",
   "language": "python",
   "name": "python3"
  },
  "language_info": {
   "codemirror_mode": {
    "name": "ipython",
    "version": 3
   },
   "file_extension": ".py",
   "mimetype": "text/x-python",
   "name": "python",
   "nbconvert_exporter": "python",
   "pygments_lexer": "ipython3",
   "version": "3.10.6"
  },
  "orig_nbformat": 4
 },
 "nbformat": 4,
 "nbformat_minor": 2
}
