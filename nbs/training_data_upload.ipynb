{
 "cells": [
  {
   "cell_type": "code",
   "execution_count": 36,
   "id": "c0aaa85d-4480-48bb-9a18-546d9d112323",
   "metadata": {},
   "outputs": [],
   "source": [
    "import pickle\n",
    "from PIL import Image\n",
    "import io\n",
    "from uuid import uuid4\n",
    "\n",
    "from azure.storage.blob import ContainerClient\n",
    "import matplotlib.pyplot as plt\n",
    "import numpy as np\n",
    "\n",
    "from experiment_utils.secrets import Secrets\n",
    "from experiment_utils.utils import getLogger\n",
    "from experiment_utils.constants import *"
   ]
  },
  {
   "cell_type": "code",
   "execution_count": 2,
   "id": "93a6e0dd-ccea-4b41-b8e0-586fb1309e12",
   "metadata": {},
   "outputs": [],
   "source": [
    "secrets = Secrets.load()"
   ]
  },
  {
   "cell_type": "code",
   "execution_count": 4,
   "id": "d981757f",
   "metadata": {},
   "outputs": [],
   "source": [
    "container_client = ContainerClient.from_container_url(container_url=secrets.AZURE_BLOBSTORE_CONTAINER_URL)"
   ]
  },
  {
   "cell_type": "code",
   "execution_count": 26,
   "id": "fb60f257",
   "metadata": {},
   "outputs": [],
   "source": [
    "# Load the dataset in memory\n",
    "n_images = 1957\n",
    "\n",
    "with open(os.path.join(DATA_DIR, 'downsample_1v4.mp4.pickle'), 'rb') as f:\n",
    "    data = pickle.load(f)"
   ]
  },
  {
   "cell_type": "code",
   "execution_count": 27,
   "id": "c95bf558",
   "metadata": {},
   "outputs": [],
   "source": [
    "imgs = np.split(data, n_images)"
   ]
  },
  {
   "cell_type": "code",
   "execution_count": 42,
   "id": "456e226f",
   "metadata": {},
   "outputs": [],
   "source": [
    "def get_png_image_data(img_arr):\n",
    "    data = io.BytesIO()\n",
    "    plt.imsave(data, img_arr, cmap='gray')\n",
    "#     plt.imsave(DATA_DIR + '/test.png', img_arr, cmap='gray')\n",
    "    return data.getvalue()"
   ]
  },
  {
   "cell_type": "code",
   "execution_count": 44,
   "id": "da293233",
   "metadata": {},
   "outputs": [],
   "source": [
    "for img_arr in imgs:\n",
    "    data = get_png_image_data(img_arr)\n",
    "    container_client.upload_blob(f'data/images/mirage/{uuid4().hex}.png', data)\n",
    "    break"
   ]
  },
  {
   "cell_type": "code",
   "execution_count": null,
   "id": "38fdbd48",
   "metadata": {},
   "outputs": [],
   "source": []
  }
 ],
 "metadata": {
  "kernelspec": {
   "display_name": "Python 3 (ipykernel)",
   "language": "python",
   "name": "python3"
  },
  "language_info": {
   "codemirror_mode": {
    "name": "ipython",
    "version": 3
   },
   "file_extension": ".py",
   "mimetype": "text/x-python",
   "name": "python",
   "nbconvert_exporter": "python",
   "pygments_lexer": "ipython3",
   "version": "3.9.7"
  }
 },
 "nbformat": 4,
 "nbformat_minor": 5
}
