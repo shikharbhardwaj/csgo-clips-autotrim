{
 "cells": [
  {
   "cell_type": "raw",
   "id": "de43d3fd",
   "metadata": {},
   "source": [
    "---\n",
    "{}\n",
    "\n",
    "---\n",
    "\n"
   ]
  },
  {
   "cell_type": "code",
   "execution_count": 9,
   "id": "d9028b94",
   "metadata": {},
   "outputs": [],
   "source": [
    "import pathlib\n",
    "import pickle\n",
    "from PIL import Image\n",
    "import io\n",
    "from uuid import uuid4\n",
    "\n",
    "from azure.storage.blob import ContainerClient\n",
    "import matplotlib.pyplot as plt\n",
    "import numpy as np\n",
    "from joblib import Parallel, delayed\n",
    "\n",
    "from experiment_utils.secrets import Secrets\n",
    "from experiment_utils.utils import getLogger\n",
    "from experiment_utils.constants import *\n",
    "\n",
    "from csgo_clips_autotrim.feature_extraction import DownsampleConfig, get_downsampled_frames"
   ]
  },
  {
   "cell_type": "code",
   "execution_count": 2,
   "id": "25e15ffc-433c-407c-8612-9ea35ac0d175",
   "metadata": {},
   "outputs": [],
   "source": [
    "logger = getLogger(__name__)"
   ]
  },
  {
   "cell_type": "code",
   "execution_count": 3,
   "id": "3202c677",
   "metadata": {},
   "outputs": [],
   "source": [
    "secrets = Secrets.load()"
   ]
  },
  {
   "cell_type": "code",
   "execution_count": 5,
   "id": "ca51f826",
   "metadata": {},
   "outputs": [],
   "source": [
    "container_client = ContainerClient.from_container_url(container_url=secrets.AZURE_BLOBSTORE_CONTAINER_URL, credential=secrets.AZURE_BLOBSTORE_SAS_TOKEN)"
   ]
  },
  {
   "cell_type": "code",
   "execution_count": 11,
   "id": "d73ebc8e",
   "metadata": {},
   "outputs": [],
   "source": [
    "def get_png_image_data(img_arr):\n",
    "    data = io.BytesIO()\n",
    "    plt.imsave(data, img_arr, cmap='gray')\n",
    "    plt.imsave(DATA_DIR / 'test.png', img_arr, cmap='gray')\n",
    "    return data.getvalue()"
   ]
  },
  {
   "cell_type": "code",
   "execution_count": 18,
   "id": "8bd5bebb-b2c6-4ac1-9fd8-37d4ab6e95bd",
   "metadata": {},
   "outputs": [],
   "source": [
    "def upload_task(file_path: pathlib.Path, output_prefix: str):\n",
    "    '''\n",
    "    Upload frames from a given video to blob store.\n",
    "    '''\n",
    "    log = getLogger('upload_task')\n",
    "    log.info('Uploading training data from video: %s', file_path)\n",
    "    video_file_name, extension = file_path.name.split('.mp4')\n",
    "    frame_name_prefix = f'{video_file_name}'\n",
    "    frames = get_downsampled_frames(file_path.absolute().as_posix(), DownsampleConfig.from_str(\"downsample_1920x1080_60_RGB\"))\n",
    "    for idx, frame in enumerate(frames):\n",
    "        data = get_png_image_data(frame)\n",
    "        frame_file_name = f'{frame_name_prefix}_{idx:06}.png'\n",
    "        container_client.upload_blob(f'{output_prefix}/{frame_file_name}', data, overwrite=True)"
   ]
  },
  {
   "cell_type": "code",
   "execution_count": 19,
   "id": "c7fd510a",
   "metadata": {},
   "outputs": [],
   "source": [
    "def upload_training_images(input_folder: pathlib.Path, output_prefix: str):\n",
    "    '''\n",
    "    Upload frames from the clips in the input folder to blob storage.\n",
    "    '''\n",
    "    tasks = []\n",
    "    \n",
    "    for path in input_folder.glob(\"*.mp4\"):\n",
    "        if not path.is_file():\n",
    "            continue\n",
    "        \n",
    "        tasks.append(delayed(upload_task)(path, output_prefix))\n",
    "    \n",
    "    tic = time.perf_counter()\n",
    "    Parallel(n_jobs=4)(tasks)\n",
    "    toc = time.perf_counter()\n",
    "    \n",
    "    logger.info(\"Upload took: %dms\", (toc - tic) * 1000)"
   ]
  },
  {
   "cell_type": "code",
   "execution_count": 20,
   "id": "11c55af7-c78a-4bcd-bdda-0b4bdf7404e2",
   "metadata": {},
   "outputs": [
    {
     "name": "stderr",
     "output_type": "stream",
     "text": [
      "[INFO] 2022-10-23 15:20:27,716 upload_task : Uploading training data from video: /code/data/clips/input/blue_and_ash_fail.mp4\n",
      "[INFO] 2022-10-23 15:20:27,716 upload_task : Uploading training data from video: /code/data/clips/input/ashtm_kit_useless.mp4\n",
      "[INFO] 2022-10-23 15:20:27,731 upload_task : Uploading training data from video: /code/data/clips/input/ashtm_tactical_nade.mp4\n",
      "  0%|          | 0/3599 [00:00<?, ?it/s][INFO] 2022-10-23 15:20:27,754 upload_task : Uploading training data from video: /code/data/clips/input/B_rush_stopped.mp4\n",
      "3600it [00:26, 137.03it/s] [00:26<00:00, 137.01it/s]\n",
      " 57%|█████▋    | 2040/3599 [00:10<00:08, 178.87it/s]\n",
      "100%|██████████| 3600/3600 [00:21<00:00, 170.92it/s]\n",
      "100%|██████████| 3600/3600 [00:20<00:00, 177.20it/s]\n",
      "3600it [00:20, 177.57it/s]                          \n",
      "100%|██████████| 3600/3600 [00:19<00:00, 181.46it/s]\n",
      "[INFO] 2022-10-23 15:36:35,212 __main__    : Upload took: 968921ms\n"
     ]
    }
   ],
   "source": [
    "upload_training_images(DATA_DIR / 'clips' / 'input', 'label-studio/src/frames')"
   ]
  },
  {
   "cell_type": "code",
   "execution_count": null,
   "id": "e428670e-c505-425a-b090-8444ff7ce9da",
   "metadata": {},
   "outputs": [],
   "source": []
  }
 ],
 "metadata": {
  "kernelspec": {
   "display_name": "Python 3 (ipykernel)",
   "language": "python",
   "name": "python3"
  },
  "language_info": {
   "codemirror_mode": {
    "name": "ipython",
    "version": 3
   },
   "file_extension": ".py",
   "mimetype": "text/x-python",
   "name": "python",
   "nbconvert_exporter": "python",
   "pygments_lexer": "ipython3",
   "version": "3.7.13"
  }
 },
 "nbformat": 4,
 "nbformat_minor": 5
}
